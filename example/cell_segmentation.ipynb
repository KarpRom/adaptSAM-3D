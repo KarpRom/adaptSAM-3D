{
 "cells": [
  {
   "cell_type": "markdown",
   "metadata": {},
   "source": [
    "# Cell segmentation example using a basic pretrained model\n",
    "The goal of this notebook is to showcase the capabilities of SAM2 for 3D segmentation using three orthogonal plane.\n",
    "\n",
    "We load a default SAM2 model with a 3D cell volume example and select a 3D point on the cell we want to segment.\n",
    "\n",
    "Then we display the merged prediction with three 2D planes."
   ]
  },
  {
   "cell_type": "code",
   "execution_count": null,
   "metadata": {},
   "outputs": [],
   "source": [
    "import adaptsam\n",
    "import tifffile as tif\n",
    "import numpy as np\n",
    "import matplotlib.pyplot as plt\n",
    "import seaborn as sns\n",
    "from matplotlib.colors import Normalize"
   ]
  },
  {
   "cell_type": "markdown",
   "metadata": {},
   "source": [
    "## Prepare the SAM2 video predictor\n",
    "It requires a sam2 model checkpoint (either 2.1 or 2 as long as the config is valid) and its corresponding configuration file."
   ]
  },
  {
   "cell_type": "code",
   "execution_count": null,
   "metadata": {},
   "outputs": [],
   "source": [
    "# Prepare the predictor by loading SAM2\n",
    "model_cfg = \"configs/sam2.1/sam2.1_hiera_t.yaml\"\n",
    "sam2_checkpoint = \"../checkpoints/sam2.1_hiera_tiny.pt\"\n",
    "predictor = adaptsam.AdaptSAMPredictor(model_cfg, sam2_checkpoint)"
   ]
  },
  {
   "cell_type": "markdown",
   "metadata": {},
   "source": [
    "## Load a data sample"
   ]
  },
  {
   "cell_type": "code",
   "execution_count": null,
   "metadata": {},
   "outputs": [],
   "source": [
    "# Load data\n",
    "data_path = \"data/img_0000_0576_0768.tif\"\n",
    "mat = tif.imread(data_path)"
   ]
  },
  {
   "cell_type": "markdown",
   "metadata": {},
   "source": [
    "# Create a point prompt\n",
    "We currently support only a single point prompt."
   ]
  },
  {
   "cell_type": "code",
   "execution_count": null,
   "metadata": {},
   "outputs": [],
   "source": [
    "# Create a point prompt\n",
    "# Same axis order as mat\n",
    "point_prompt = [26, 31, 28]"
   ]
  },
  {
   "cell_type": "markdown",
   "metadata": {},
   "source": [
    "# Display the prompt on the volume\n",
    "We verify that the prompt is on the object."
   ]
  },
  {
   "cell_type": "code",
   "execution_count": null,
   "metadata": {},
   "outputs": [],
   "source": [
    "def display_prompt(point_prompt, mat):\n",
    "    fig, axes = plt.subplots(1, 3, figsize=(10, 15))\n",
    "    slice_titles = [\"Axial\", \"Coronal\", \"Sagittal\"]\n",
    "\n",
    "    slices_input = [\n",
    "        mat[point_prompt[0], :, :],  # Axial slice\n",
    "        mat[:, point_prompt[1], :],  # Coronal slice\n",
    "        mat[:, :, point_prompt[2]]  # Sagittal slice\n",
    "    ]\n",
    "\n",
    "    for i in range(3):\n",
    "        axes[i].imshow(slices_input[i], cmap=\"gray\")\n",
    "        axes[i].set_title(f\"{slice_titles[i]} - Input\")\n",
    "        axes[i].axis(\"off\")\n",
    "\n",
    "    # plot is y, x ordered\n",
    "    axes[0].plot(point_prompt[2], point_prompt[1], marker='*', markersize=7, color=\"red\")\n",
    "    axes[1].plot(point_prompt[2], point_prompt[0] , marker='*', markersize=7, color=\"red\")\n",
    "    axes[2].plot(point_prompt[1], point_prompt[0], marker='*', markersize=7, color=\"red\")\n",
    "\n",
    "    plt.tight_layout()\n",
    "    plt.show()\n",
    "    \n",
    "display_prompt(point_prompt, mat)"
   ]
  },
  {
   "cell_type": "markdown",
   "metadata": {},
   "source": [
    "# Prediction\n",
    "We simply predict on the volume using the given point prompt"
   ]
  },
  {
   "cell_type": "code",
   "execution_count": null,
   "metadata": {},
   "outputs": [],
   "source": [
    "# Predict on the full matrix with the point prompt\n",
    "prediction = predictor.predict(mat, point_prompt)\n",
    "\n",
    "tif.imwrite(\"predicted.tif\", prediction)"
   ]
  },
  {
   "cell_type": "markdown",
   "metadata": {},
   "source": [
    "# Display\n",
    "We display the 3D segmentation result by looking at the segmentation in the three orthogonal planes. "
   ]
  },
  {
   "cell_type": "code",
   "execution_count": null,
   "metadata": {},
   "outputs": [],
   "source": [
    "z, y, x = mat.shape\n",
    "slice_idx = tuple(point_prompt)\n",
    "axial_idx, coronal_idx, sagittal_idx = slice_idx\n",
    "\n",
    "fig, axes = plt.subplots(3, 3, figsize=(15, 10))\n",
    "slice_titles = [\"Axial\", \"Coronal\", \"Sagittal\"]\n",
    "\n",
    "slices_input = [\n",
    "    mat[axial_idx, :, :],  # Axial slice\n",
    "    mat[:, coronal_idx, :],  # Coronal slice\n",
    "    mat[:, :, sagittal_idx]  # Sagittal slice\n",
    "]\n",
    "\n",
    "slices_prediction = [\n",
    "    prediction[axial_idx, :, :],\n",
    "    prediction[:, coronal_idx, :],\n",
    "    prediction[:, :, sagittal_idx]\n",
    "]\n",
    "\n",
    "cmap = sns.color_palette(\"inferno\", as_cmap=True)\n",
    "norm = Normalize(vmin=np.min(prediction), vmax=np.max(prediction))\n",
    "\n",
    "for i in range(3):\n",
    "    im1 = axes[i, 0].imshow(slices_input[i], cmap='gray')\n",
    "    axes[i, 0].set_title(f\"{slice_titles[i]} - Input\")\n",
    "    axes[i, 0].axis(\"off\")\n",
    "    fig.colorbar(im1, ax=axes[i, 0], fraction=0.046, pad=0.04)\n",
    "\n",
    "    \n",
    "    pred_im = axes[i, 1].imshow(slices_prediction[i], cmap=cmap, norm=norm)\n",
    "    axes[i, 1].set_title(f\"{slice_titles[i]} - Prediction\")\n",
    "    axes[i, 1].axis(\"off\")\n",
    "    fig.colorbar(pred_im, ax=axes[i, 1], fraction=0.046, pad=0.04)\n",
    "\n",
    "    overlay = np.stack((slices_input[i], slices_prediction[i], np.zeros_like(slices_input[i])), axis=-1)  # RGB overlay\n",
    "    axes[i, 2].imshow(overlay.astype(np.uint8))\n",
    "    axes[i, 2].set_title(f\"{slice_titles[i]} - Overlay\")\n",
    "    axes[i, 2].axis(\"off\")\n",
    "\n",
    "plt.tight_layout()\n",
    "plt.show()"
   ]
  },
  {
   "cell_type": "markdown",
   "metadata": {},
   "source": [
    "# Save prediction to view in external 3D viewer"
   ]
  },
  {
   "cell_type": "code",
   "execution_count": null,
   "metadata": {},
   "outputs": [],
   "source": [
    "tif.imwrite(\"prediction.tif\", prediction)"
   ]
  }
 ],
 "metadata": {
  "kernelspec": {
   "display_name": "sam_test",
   "language": "python",
   "name": "python3"
  },
  "language_info": {
   "codemirror_mode": {
    "name": "ipython",
    "version": 3
   },
   "file_extension": ".py",
   "mimetype": "text/x-python",
   "name": "python",
   "nbconvert_exporter": "python",
   "pygments_lexer": "ipython3",
   "version": "3.10.16"
  }
 },
 "nbformat": 4,
 "nbformat_minor": 2
}
